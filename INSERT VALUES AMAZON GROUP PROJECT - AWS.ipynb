{
 "cells": [
  {
   "cell_type": "code",
   "execution_count": 1,
   "metadata": {
    "ExecuteTime": {
     "end_time": "2021-08-02T09:21:54.022444Z",
     "start_time": "2021-08-02T09:21:52.935361Z"
    }
   },
   "outputs": [],
   "source": [
    "import numpy as np\n",
    "import pandas as pd\n",
    "from sqlalchemy import create_engine\n",
    "import matplotlib.pyplot as plt\n"
   ]
  },
  {
   "cell_type": "code",
   "execution_count": 2,
   "metadata": {
    "ExecuteTime": {
     "end_time": "2021-08-02T09:21:59.543363Z",
     "start_time": "2021-08-02T09:21:54.043669Z"
    }
   },
   "outputs": [],
   "source": [
    "hostname = 'group4.cplpzlen7ufk.us-east-2.rds.amazonaws.com'\n",
    "username = 'pgsql4'\n",
    "password = 'columbia4'\n",
    "database = 'group4'\n",
    "conn_url = 'postgresql://' + username + ':' + password + '@' + hostname + '/' + database\n",
    "engine = create_engine(conn_url)\n",
    "conn = engine.connect()"
   ]
  },
  {
   "cell_type": "markdown",
   "metadata": {},
   "source": [
    "# IMPORT ALL OF THE DATA TO PANDAS AND LOAD TO SQL"
   ]
  },
  {
   "cell_type": "markdown",
   "metadata": {},
   "source": [
    "## Payments"
   ]
  },
  {
   "cell_type": "code",
   "execution_count": 15,
   "metadata": {
    "ExecuteTime": {
     "end_time": "2021-08-01T07:22:38.661098Z",
     "start_time": "2021-08-01T07:22:29.527337Z"
    }
   },
   "outputs": [],
   "source": [
    "payments = pd.read_excel('./AMAZON REPORTS COMBINED.xlsx', sheet_name='Payments')\n",
    "payments.to_sql('payments', engine, if_exists = 'append', index = False)\n"
   ]
  },
  {
   "cell_type": "markdown",
   "metadata": {},
   "source": [
    "## Customers"
   ]
  },
  {
   "cell_type": "code",
   "execution_count": 16,
   "metadata": {
    "ExecuteTime": {
     "end_time": "2021-08-01T07:22:55.253102Z",
     "start_time": "2021-08-01T07:22:51.836439Z"
    }
   },
   "outputs": [],
   "source": [
    "customers = pd.read_excel('./AMAZON REPORTS COMBINED.xlsx', sheet_name='Customers')\n",
    "customers.to_sql('customers', engine, if_exists = 'append', index = False)\n"
   ]
  },
  {
   "cell_type": "markdown",
   "metadata": {},
   "source": [
    "## CustomersPayments"
   ]
  },
  {
   "cell_type": "code",
   "execution_count": 18,
   "metadata": {
    "ExecuteTime": {
     "end_time": "2021-08-01T07:23:43.486409Z",
     "start_time": "2021-08-01T07:23:36.635926Z"
    }
   },
   "outputs": [],
   "source": [
    "customers_payments = pd.read_excel('./AMAZON REPORTS COMBINED.xlsx', sheet_name='CustomersPayments')\n",
    "customers_payments.to_sql('customerspayments', engine, if_exists = 'append', index = False)\n"
   ]
  },
  {
   "cell_type": "markdown",
   "metadata": {},
   "source": [
    "## Addresses"
   ]
  },
  {
   "cell_type": "code",
   "execution_count": 19,
   "metadata": {
    "ExecuteTime": {
     "end_time": "2021-08-01T07:23:53.005584Z",
     "start_time": "2021-08-01T07:23:46.842540Z"
    }
   },
   "outputs": [],
   "source": [
    "addresses = pd.read_excel('./AMAZON REPORTS COMBINED.xlsx', sheet_name='Addresses')\n",
    "addresses.to_sql('addresses', engine, if_exists = 'append', index = False)\n"
   ]
  },
  {
   "cell_type": "markdown",
   "metadata": {},
   "source": [
    "## CustomersAddresses"
   ]
  },
  {
   "cell_type": "code",
   "execution_count": 20,
   "metadata": {
    "ExecuteTime": {
     "end_time": "2021-08-01T07:24:00.686092Z",
     "start_time": "2021-08-01T07:23:54.613222Z"
    }
   },
   "outputs": [],
   "source": [
    "customers_addresses = pd.read_excel('./AMAZON REPORTS COMBINED.xlsx', sheet_name='CustomersAddresses')\n",
    "customers_addresses.to_sql('customeraddresses', engine, if_exists = 'append', index = False)\n"
   ]
  },
  {
   "cell_type": "markdown",
   "metadata": {},
   "source": [
    "## Orders"
   ]
  },
  {
   "cell_type": "code",
   "execution_count": 22,
   "metadata": {
    "ExecuteTime": {
     "end_time": "2021-08-01T07:27:56.008033Z",
     "start_time": "2021-08-01T07:25:50.007382Z"
    }
   },
   "outputs": [],
   "source": [
    "orders = pd.read_excel('./AMAZON REPORTS COMBINED.xlsx', sheet_name='Orders')\n",
    "orders.to_sql('orders', engine, if_exists = 'append', index = False)\n"
   ]
  },
  {
   "cell_type": "markdown",
   "metadata": {},
   "source": [
    "## CustomersOrders"
   ]
  },
  {
   "cell_type": "code",
   "execution_count": 23,
   "metadata": {
    "ExecuteTime": {
     "end_time": "2021-08-01T07:30:14.066497Z",
     "start_time": "2021-08-01T07:28:09.080871Z"
    }
   },
   "outputs": [],
   "source": [
    "customers_orders = pd.read_excel('./AMAZON REPORTS COMBINED.xlsx', sheet_name='CustomersOrders')\n",
    "customers_orders.to_sql('customersorders', engine, if_exists = 'append', index = False)\n"
   ]
  },
  {
   "cell_type": "markdown",
   "metadata": {},
   "source": [
    "## Products"
   ]
  },
  {
   "cell_type": "code",
   "execution_count": 27,
   "metadata": {
    "ExecuteTime": {
     "end_time": "2021-08-01T07:59:51.099107Z",
     "start_time": "2021-08-01T07:56:36.422202Z"
    }
   },
   "outputs": [],
   "source": [
    "products = pd.read_excel('./AMAZON REPORTS COMBINED.xlsx', sheet_name='Products')\n",
    "products.to_sql('products', engine, if_exists = 'append', index = False)\n"
   ]
  },
  {
   "cell_type": "markdown",
   "metadata": {},
   "source": [
    "## OrdersProducts"
   ]
  },
  {
   "cell_type": "code",
   "execution_count": 28,
   "metadata": {
    "ExecuteTime": {
     "end_time": "2021-08-01T08:03:53.436980Z",
     "start_time": "2021-08-01T08:00:07.168344Z"
    }
   },
   "outputs": [],
   "source": [
    "orders_products = pd.read_excel('./AMAZON REPORTS COMBINED.xlsx', sheet_name='OrdersProducts')\n",
    "orders_products.to_sql('ordersproducts', engine, if_exists = 'append', index = False)\n"
   ]
  },
  {
   "cell_type": "markdown",
   "metadata": {},
   "source": [
    "## Categories"
   ]
  },
  {
   "cell_type": "code",
   "execution_count": 29,
   "metadata": {
    "ExecuteTime": {
     "end_time": "2021-08-01T08:05:13.620845Z",
     "start_time": "2021-08-01T08:04:06.609832Z"
    }
   },
   "outputs": [],
   "source": [
    "categories = pd.read_excel('./AMAZON REPORTS COMBINED.xlsx', sheet_name='Categories')\n",
    "categories.to_sql('categories', engine, if_exists = 'append', index = False)\n"
   ]
  },
  {
   "cell_type": "markdown",
   "metadata": {},
   "source": [
    "## ProductsCategories"
   ]
  },
  {
   "cell_type": "code",
   "execution_count": 30,
   "metadata": {
    "ExecuteTime": {
     "end_time": "2021-08-01T08:08:43.488939Z",
     "start_time": "2021-08-01T08:05:30.840769Z"
    }
   },
   "outputs": [],
   "source": [
    "products_categories = pd.read_excel('./AMAZON REPORTS COMBINED.xlsx', sheet_name='ProductsCategories')\n",
    "products_categories.to_sql('productscategories', engine, if_exists = 'append', index = False)\n"
   ]
  },
  {
   "cell_type": "markdown",
   "metadata": {},
   "source": [
    "## Sellers"
   ]
  },
  {
   "cell_type": "code",
   "execution_count": 31,
   "metadata": {
    "ExecuteTime": {
     "end_time": "2021-08-01T08:10:45.430883Z",
     "start_time": "2021-08-01T08:09:40.387319Z"
    }
   },
   "outputs": [],
   "source": [
    "sellers = pd.read_excel('./AMAZON REPORTS COMBINED.xlsx', sheet_name='Sellers')\n",
    "sellers.to_sql('sellers', engine, if_exists = 'append', index = False)\n"
   ]
  },
  {
   "cell_type": "markdown",
   "metadata": {},
   "source": [
    "## ProductsSellers"
   ]
  },
  {
   "cell_type": "code",
   "execution_count": 33,
   "metadata": {
    "ExecuteTime": {
     "end_time": "2021-08-01T08:14:40.924783Z",
     "start_time": "2021-08-01T08:11:25.070796Z"
    }
   },
   "outputs": [],
   "source": [
    "products_sellers = pd.read_excel('./AMAZON REPORTS COMBINED.xlsx', sheet_name='ProductsSellers')\n",
    "products_sellers.to_sql('productssellers', engine, if_exists = 'append', index = False)\n"
   ]
  },
  {
   "cell_type": "markdown",
   "metadata": {},
   "source": [
    "## ProductsSellers"
   ]
  },
  {
   "cell_type": "code",
   "execution_count": 4,
   "metadata": {
    "ExecuteTime": {
     "end_time": "2021-08-02T09:26:09.114967Z",
     "start_time": "2021-08-02T09:22:21.362183Z"
    }
   },
   "outputs": [],
   "source": [
    "products_price = pd.read_excel('./AMAZON REPORTS COMBINED.xlsx', sheet_name='ProductsPrice')\n",
    "products_price.to_sql('productsprice', engine, if_exists = 'append', index = False)\n"
   ]
  },
  {
   "cell_type": "code",
   "execution_count": null,
   "metadata": {},
   "outputs": [],
   "source": []
  }
 ],
 "metadata": {
  "kernelspec": {
   "display_name": "Python 3",
   "language": "python",
   "name": "python3"
  },
  "language_info": {
   "codemirror_mode": {
    "name": "ipython",
    "version": 3
   },
   "file_extension": ".py",
   "mimetype": "text/x-python",
   "name": "python",
   "nbconvert_exporter": "python",
   "pygments_lexer": "ipython3",
   "version": "3.8.8"
  },
  "toc": {
   "base_numbering": 1,
   "nav_menu": {},
   "number_sections": true,
   "sideBar": true,
   "skip_h1_title": false,
   "title_cell": "Table of Contents",
   "title_sidebar": "Contents",
   "toc_cell": false,
   "toc_position": {},
   "toc_section_display": true,
   "toc_window_display": false
  },
  "varInspector": {
   "cols": {
    "lenName": "40",
    "lenType": "40",
    "lenVar": 40
   },
   "kernels_config": {
    "python": {
     "delete_cmd_postfix": "",
     "delete_cmd_prefix": "del ",
     "library": "var_list.py",
     "varRefreshCmd": "print(var_dic_list())"
    },
    "r": {
     "delete_cmd_postfix": ") ",
     "delete_cmd_prefix": "rm(",
     "library": "var_list.r",
     "varRefreshCmd": "cat(var_dic_list()) "
    }
   },
   "types_to_exclude": [
    "module",
    "function",
    "builtin_function_or_method",
    "instance",
    "_Feature"
   ],
   "window_display": false
  }
 },
 "nbformat": 4,
 "nbformat_minor": 4
}
